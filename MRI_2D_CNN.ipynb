{
  "nbformat": 4,
  "nbformat_minor": 0,
  "metadata": {
    "accelerator": "GPU",
    "colab": {
      "name": "MRI_2D_CNN.ipynb",
      "provenance": [],
      "collapsed_sections": []
    },
    "kernelspec": {
      "display_name": "Python 3",
      "name": "python3"
    }
  },
  "cells": [
    {
      "cell_type": "markdown",
      "metadata": {
        "id": "rX8mhOLljYeM"
      },
      "source": [
        "##### Copyright 2019 The TensorFlow Authors."
      ]
    },
    {
      "cell_type": "code",
      "metadata": {
        "cellView": "form",
        "id": "BZSlp3DAjdYf"
      },
      "source": [
        "#@title Licensed under the Apache License, Version 2.0 (the \"License\");\n",
        "# you may not use this file except in compliance with the License.\n",
        "# You may obtain a copy of the License at\n",
        "#\n",
        "# https://www.apache.org/licenses/LICENSE-2.0\n",
        "#\n",
        "# Unless required by applicable law or agreed to in writing, software\n",
        "# distributed under the License is distributed on an \"AS IS\" BASIS,\n",
        "# WITHOUT WARRANTIES OR CONDITIONS OF ANY KIND, either express or implied.\n",
        "# See the License for the specific language governing permissions and\n",
        "# limitations under the License."
      ],
      "execution_count": 90,
      "outputs": []
    },
    {
      "cell_type": "code",
      "metadata": {
        "colab": {
          "base_uri": "https://localhost:8080/"
        },
        "id": "RXZT2UsyIVe_",
        "outputId": "5bf02643-f24c-4c67-ab6d-2f014006e643"
      },
      "source": [
        "import os\n",
        "import zipfile\n",
        "\n",
        "from google.colab import drive\n",
        "drive.mount('/content/drive')\n",
        "\n",
        "# Directory with our training horse pictures\n",
        "train_dir = os.path.join('/content/drive/My Drive/Alzheimer_s Dataset/train')\n",
        "\n",
        "\n",
        "# Directory with our training horse pictures\n",
        "validation_dir = os.path.join('/content/drive/My Drive/Alzheimer_s Dataset/test')\n",
        "\n",
        "\n"
      ],
      "execution_count": 91,
      "outputs": [
        {
          "output_type": "stream",
          "text": [
            "Drive already mounted at /content/drive; to attempt to forcibly remount, call drive.mount(\"/content/drive\", force_remount=True).\n"
          ],
          "name": "stdout"
        }
      ]
    },
    {
      "cell_type": "code",
      "metadata": {
        "id": "qvfZg3LQbD-5"
      },
      "source": [
        "import tensorflow as tf"
      ],
      "execution_count": 92,
      "outputs": []
    },
    {
      "cell_type": "code",
      "metadata": {
        "id": "PixZ2s5QbYQ3"
      },
      "source": [
        "model = tf.keras.models.Sequential([\n",
        "    # Note the input shape is the desired size of the image 176x208 with 1 byte color\n",
        "    # This is the first convolution\n",
        "    tf.keras.layers.Conv2D(16, (3,3), activation='relu', input_shape=(176, 208, 3)),\n",
        "    tf.keras.layers.Conv2D(16, (3,3), activation='relu'),\n",
        "    tf.keras.layers.MaxPooling2D(2,2),\n",
        "    tf.keras.layers.Conv2D(32, (3,3), activation='relu'),\n",
        "    tf.keras.layers.Conv2D(32, (3,3), activation='relu'),\n",
        "    tf.keras.layers.MaxPooling2D(2,2),\n",
        "    tf.keras.layers.Dropout(0.2),\n",
        "    tf.keras.layers.Conv2D(64, (3,3), activation='relu'), \n",
        "    tf.keras.layers.Conv2D(64, (3,3), activation='relu'),\n",
        "    tf.keras.layers.MaxPooling2D(2,2),\n",
        "    tf.keras.layers.Conv2D(64, (3,3), activation='relu'), \n",
        "    tf.keras.layers.Conv2D(128, (3,3), activation='relu'),\n",
        "    tf.keras.layers.MaxPooling2D(3,3),\n",
        "    # Flatten the results to feed into a DNN\n",
        "    tf.keras.layers.Flatten(),\n",
        "    tf.keras.layers.Dense(1024, activation='relu'),\n",
        "    tf.keras.layers.Dense(512, activation='relu'),\n",
        "    tf.keras.layers.Dense(256, activation='relu'),\n",
        "    tf.keras.layers.Dense(4, activation='softmax')\n",
        "])"
      ],
      "execution_count": 93,
      "outputs": []
    },
    {
      "cell_type": "code",
      "metadata": {
        "id": "8DHWhFP_uhq3"
      },
      "source": [
        "from tensorflow.keras.optimizers import RMSprop\n",
        "\n",
        "model.compile(loss=tf.losses.CategoricalCrossentropy(),\n",
        "              optimizer= 'adam', #tf.keras.optimizers.Adadelta(), #RMSprop(lr=1e-4), #tf.keras.optimizers.Adagrad(), tf.keras.optimizers.SGD(learning_rate=0.0001, momentum=0.9), #RMSprop(lr=1e-4),\n",
        "              metrics=['accuracy'])\n"
      ],
      "execution_count": 94,
      "outputs": []
    },
    {
      "cell_type": "code",
      "metadata": {
        "colab": {
          "base_uri": "https://localhost:8080/"
        },
        "id": "ClebU9NJg99G",
        "outputId": "c6269acc-67e6-45f5-b36d-d7c0d62f4e2e"
      },
      "source": [
        "from tensorflow.keras.preprocessing.image import ImageDataGenerator\n",
        "strategy = tf.distribute.get_strategy()\n",
        "AUTOTUNE = tf.data.experimental.AUTOTUNE\n",
        "BATCH_SIZE = 16 * strategy.num_replicas_in_sync\n",
        "import numpy as np\n",
        "import pandas as pd\n",
        "import tensorflow as tf\n",
        "train_ds = tf.keras.preprocessing.image_dataset_from_directory(\n",
        "    train_dir,\n",
        "    validation_split=0.2,\n",
        "    subset=\"training\",\n",
        "    seed=1337,\n",
        "    image_size=(176, 208),\n",
        "    batch_size=BATCH_SIZE,\n",
        ")\n",
        "\n",
        "\n",
        "val_ds = tf.keras.preprocessing.image_dataset_from_directory(\n",
        "    validation_dir,\n",
        "    validation_split=0.2,\n",
        "    subset=\"validation\",\n",
        "    seed=1337,\n",
        "    image_size= (176, 208),\n",
        "    batch_size=BATCH_SIZE,\n",
        "    \n",
        ")"
      ],
      "execution_count": 95,
      "outputs": [
        {
          "output_type": "stream",
          "text": [
            "Found 5121 files belonging to 4 classes.\n",
            "Using 4097 files for training.\n",
            "Found 1279 files belonging to 4 classes.\n",
            "Using 255 files for validation.\n"
          ],
          "name": "stdout"
        }
      ]
    },
    {
      "cell_type": "code",
      "metadata": {
        "id": "SRmsOmUM3jAg"
      },
      "source": [
        "def one_hot_label(image, label):\r\n",
        "    label = tf.one_hot(label, 4)\r\n",
        "    return image, label\r\n",
        "AUTOTUNE = tf.data.experimental.AUTOTUNE\r\n",
        "\r\n",
        "class_names = ['MildDementia', 'ModerateDementia', 'NonDementia', 'VeryMildDementia']\r\n",
        "train_ds.class_names = class_names\r\n",
        "val_ds.class_names = class_names\r\n",
        "\r\n",
        "NUM_CLASSES = len(class_names)\r\n",
        "train_ds = train_ds.map(one_hot_label, num_parallel_calls=AUTOTUNE)\r\n",
        "val_ds = val_ds.map(one_hot_label, num_parallel_calls=AUTOTUNE)\r\n",
        "train_ds = train_ds.cache().prefetch(buffer_size=AUTOTUNE)\r\n",
        "val_ds = val_ds.cache().prefetch(buffer_size=AUTOTUNE)"
      ],
      "execution_count": 96,
      "outputs": []
    },
    {
      "cell_type": "code",
      "metadata": {
        "colab": {
          "base_uri": "https://localhost:8080/"
        },
        "id": "Fb1_lgobv81m",
        "outputId": "b06b06fe-8a0e-48f7-a147-3b8360a383c7"
      },
      "source": [
        "history = model.fit(\n",
        "      train_ds,  \n",
        "      epochs=25,\n",
        "      verbose=1,\n",
        "      validation_data = val_ds,\n",
        "      validation_steps=8)"
      ],
      "execution_count": 97,
      "outputs": [
        {
          "output_type": "stream",
          "text": [
            "Epoch 1/25\n",
            "257/257 [==============================] - 11s 39ms/step - loss: 2.1260 - accuracy: 0.4673 - val_loss: 1.0846 - val_accuracy: 0.5781\n",
            "Epoch 2/25\n",
            "257/257 [==============================] - 7s 27ms/step - loss: 1.0422 - accuracy: 0.4995 - val_loss: 0.9909 - val_accuracy: 0.4922\n",
            "Epoch 3/25\n",
            "257/257 [==============================] - 7s 26ms/step - loss: 0.9476 - accuracy: 0.5525 - val_loss: 0.8680 - val_accuracy: 0.5859\n",
            "Epoch 4/25\n",
            "257/257 [==============================] - 7s 26ms/step - loss: 0.8808 - accuracy: 0.5765 - val_loss: 0.8719 - val_accuracy: 0.5625\n",
            "Epoch 5/25\n",
            "257/257 [==============================] - 7s 25ms/step - loss: 0.8527 - accuracy: 0.5888 - val_loss: 0.8848 - val_accuracy: 0.5547\n",
            "Epoch 6/25\n",
            "257/257 [==============================] - 6s 25ms/step - loss: 0.7988 - accuracy: 0.6316 - val_loss: 1.0006 - val_accuracy: 0.5078\n",
            "Epoch 7/25\n",
            "257/257 [==============================] - 6s 25ms/step - loss: 0.7408 - accuracy: 0.6659 - val_loss: 0.7886 - val_accuracy: 0.6562\n",
            "Epoch 8/25\n",
            "257/257 [==============================] - 6s 25ms/step - loss: 0.6597 - accuracy: 0.7065 - val_loss: 0.8780 - val_accuracy: 0.6406\n",
            "Epoch 9/25\n",
            "257/257 [==============================] - 6s 25ms/step - loss: 0.5696 - accuracy: 0.7510 - val_loss: 1.0780 - val_accuracy: 0.6016\n",
            "Epoch 10/25\n",
            "257/257 [==============================] - 6s 25ms/step - loss: 0.4827 - accuracy: 0.7918 - val_loss: 1.4419 - val_accuracy: 0.6172\n",
            "Epoch 11/25\n",
            "257/257 [==============================] - 7s 25ms/step - loss: 0.3621 - accuracy: 0.8434 - val_loss: 1.8851 - val_accuracy: 0.6641\n",
            "Epoch 12/25\n",
            "257/257 [==============================] - 7s 25ms/step - loss: 0.3885 - accuracy: 0.8395 - val_loss: 1.0284 - val_accuracy: 0.7266\n",
            "Epoch 13/25\n",
            "257/257 [==============================] - 7s 25ms/step - loss: 0.2414 - accuracy: 0.9085 - val_loss: 1.5308 - val_accuracy: 0.7109\n",
            "Epoch 14/25\n",
            "257/257 [==============================] - 7s 26ms/step - loss: 0.1841 - accuracy: 0.9312 - val_loss: 1.1748 - val_accuracy: 0.6719\n",
            "Epoch 15/25\n",
            "257/257 [==============================] - 7s 25ms/step - loss: 0.1258 - accuracy: 0.9554 - val_loss: 2.0722 - val_accuracy: 0.6484\n",
            "Epoch 16/25\n",
            "257/257 [==============================] - 7s 26ms/step - loss: 0.1376 - accuracy: 0.9463 - val_loss: 2.3946 - val_accuracy: 0.6797\n",
            "Epoch 17/25\n",
            "257/257 [==============================] - 7s 26ms/step - loss: 0.1241 - accuracy: 0.9550 - val_loss: 1.6184 - val_accuracy: 0.7266\n",
            "Epoch 18/25\n",
            "257/257 [==============================] - 7s 26ms/step - loss: 0.1128 - accuracy: 0.9616 - val_loss: 2.4863 - val_accuracy: 0.6719\n",
            "Epoch 19/25\n",
            "257/257 [==============================] - 7s 25ms/step - loss: 0.0906 - accuracy: 0.9658 - val_loss: 2.1200 - val_accuracy: 0.6484\n",
            "Epoch 20/25\n",
            "257/257 [==============================] - 6s 25ms/step - loss: 0.0819 - accuracy: 0.9735 - val_loss: 1.7229 - val_accuracy: 0.6328\n",
            "Epoch 21/25\n",
            "257/257 [==============================] - 6s 25ms/step - loss: 0.0795 - accuracy: 0.9729 - val_loss: 3.2342 - val_accuracy: 0.5469\n",
            "Epoch 22/25\n",
            "257/257 [==============================] - 7s 25ms/step - loss: 0.0874 - accuracy: 0.9740 - val_loss: 2.3770 - val_accuracy: 0.6641\n",
            "Epoch 23/25\n",
            "257/257 [==============================] - 6s 25ms/step - loss: 0.1148 - accuracy: 0.9680 - val_loss: 3.5175 - val_accuracy: 0.6250\n",
            "Epoch 24/25\n",
            "257/257 [==============================] - 6s 25ms/step - loss: 0.0532 - accuracy: 0.9796 - val_loss: 2.7813 - val_accuracy: 0.7109\n",
            "Epoch 25/25\n",
            "257/257 [==============================] - 7s 25ms/step - loss: 0.0654 - accuracy: 0.9801 - val_loss: 2.0937 - val_accuracy: 0.6484\n"
          ],
          "name": "stdout"
        }
      ]
    },
    {
      "cell_type": "code",
      "metadata": {
        "colab": {
          "base_uri": "https://localhost:8080/",
          "height": 545
        },
        "id": "7zNPRWOVJdOH",
        "outputId": "68740a40-9ee7-4e70-f0e3-322721abc48f"
      },
      "source": [
        "import matplotlib.pyplot as plt\n",
        "acc = history.history['accuracy']\n",
        "val_acc = history.history['val_accuracy']\n",
        "loss = history.history['loss']\n",
        "val_loss = history.history['val_loss']\n",
        "\n",
        "epochs = range(len(acc))\n",
        "\n",
        "plt.plot(epochs, acc, 'r', label='Training accuracy')\n",
        "plt.plot(epochs, val_acc, 'b', label='Validation accuracy')\n",
        "plt.title('Training and validation accuracy')\n",
        "\n",
        "plt.figure()\n",
        "\n",
        "plt.plot(epochs, loss, 'r', label='Training Loss')\n",
        "plt.plot(epochs, val_loss, 'b', label='Validation Loss')\n",
        "plt.title('Training and validation loss')\n",
        "plt.legend()\n",
        "\n",
        "plt.show()"
      ],
      "execution_count": 98,
      "outputs": [
        {
          "output_type": "display_data",
          "data": {
            "image/png": "[encoded data removed]",
            "text/plain": [
              "<Figure size 432x288 with 1 Axes>"
            ]
          },
          "metadata": {
            "tags": [],
            "needs_background": "light"
          }
        },
        {
          "output_type": "display_data",
          "data": {
            "image/png": "[encoded data removed]",
            "text/plain": [
              "<Figure size 432x288 with 1 Axes>"
            ]
          },
          "metadata": {
            "tags": [],
            "needs_background": "light"
          }
        }
      ]
    }
  ]
}